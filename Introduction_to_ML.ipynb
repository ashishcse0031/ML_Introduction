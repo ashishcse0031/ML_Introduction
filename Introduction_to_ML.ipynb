{
 "cells": [
  {
   "cell_type": "markdown",
   "metadata": {},
   "source": [
    "## Part 0: Prerequisites:\n",
    "\n",
    "\n",
    "![Einstein](https://i.imgur.com/vfPDHGN.png)\n",
    "\n",
    "[tf.keras](https://www.tensorflow.org/guide/keras) is the simplest way to build and train neural network models in TensorFlow.\n",
    "\n",
    "\n",
    "*. Basic programming skill\n"
   ]
  },
  {
   "cell_type": "markdown",
   "metadata": {},
   "source": [
    "# Basic Machine learning"
   ]
  },
  {
   "cell_type": "code",
   "execution_count": 1,
   "metadata": {},
   "outputs": [],
   "source": [
    "from IPython.display import Image\n",
    "from IPython.core.display import HTML \n",
    "Image=Image(url=\"https://www.oreilly.com/library/view/neural-network-programming/9781788390392/assets/ca899bdb-1bb7-4491-b8b4-79db174760e5.png\")"
   ]
  },
  {
   "cell_type": "markdown",
   "metadata": {},
   "source": [
    "# Preview of Data\n",
    "1.    There are 150 observations with 4 features each (sepal length, sepal width, petal length, petal width).\n",
    "2.    There are no null values, so we don't have to worry about that.\n",
    "3.     There are 50 observations of each species (setosa, versicolor, virginica)."
   ]
  },
  {
   "cell_type": "code",
   "execution_count": 2,
   "metadata": {},
   "outputs": [
    {
     "data": {
      "text/html": [
       "<div>\n",
       "<style scoped>\n",
       "    .dataframe tbody tr th:only-of-type {\n",
       "        vertical-align: middle;\n",
       "    }\n",
       "\n",
       "    .dataframe tbody tr th {\n",
       "        vertical-align: top;\n",
       "    }\n",
       "\n",
       "    .dataframe thead th {\n",
       "        text-align: right;\n",
       "    }\n",
       "</style>\n",
       "<table border=\"1\" class=\"dataframe\">\n",
       "  <thead>\n",
       "    <tr style=\"text-align: right;\">\n",
       "      <th></th>\n",
       "      <th>sepal length</th>\n",
       "      <th>sepal width</th>\n",
       "      <th>petal length</th>\n",
       "      <th>petal width</th>\n",
       "    </tr>\n",
       "  </thead>\n",
       "  <tbody>\n",
       "    <tr>\n",
       "      <th>count</th>\n",
       "      <td>150.000000</td>\n",
       "      <td>150.000000</td>\n",
       "      <td>150.000000</td>\n",
       "      <td>150.000000</td>\n",
       "    </tr>\n",
       "    <tr>\n",
       "      <th>mean</th>\n",
       "      <td>5.843333</td>\n",
       "      <td>3.057333</td>\n",
       "      <td>3.758000</td>\n",
       "      <td>1.199333</td>\n",
       "    </tr>\n",
       "    <tr>\n",
       "      <th>std</th>\n",
       "      <td>0.828066</td>\n",
       "      <td>0.435866</td>\n",
       "      <td>1.765298</td>\n",
       "      <td>0.762238</td>\n",
       "    </tr>\n",
       "    <tr>\n",
       "      <th>min</th>\n",
       "      <td>4.300000</td>\n",
       "      <td>2.000000</td>\n",
       "      <td>1.000000</td>\n",
       "      <td>0.100000</td>\n",
       "    </tr>\n",
       "    <tr>\n",
       "      <th>25%</th>\n",
       "      <td>5.100000</td>\n",
       "      <td>2.800000</td>\n",
       "      <td>1.600000</td>\n",
       "      <td>0.300000</td>\n",
       "    </tr>\n",
       "    <tr>\n",
       "      <th>50%</th>\n",
       "      <td>5.800000</td>\n",
       "      <td>3.000000</td>\n",
       "      <td>4.350000</td>\n",
       "      <td>1.300000</td>\n",
       "    </tr>\n",
       "    <tr>\n",
       "      <th>75%</th>\n",
       "      <td>6.400000</td>\n",
       "      <td>3.300000</td>\n",
       "      <td>5.100000</td>\n",
       "      <td>1.800000</td>\n",
       "    </tr>\n",
       "    <tr>\n",
       "      <th>max</th>\n",
       "      <td>7.900000</td>\n",
       "      <td>4.400000</td>\n",
       "      <td>6.900000</td>\n",
       "      <td>2.500000</td>\n",
       "    </tr>\n",
       "  </tbody>\n",
       "</table>\n",
       "</div>"
      ],
      "text/plain": [
       "       sepal length   sepal width    petal length   petal width \n",
       "count     150.000000    150.000000      150.000000    150.000000\n",
       "mean        5.843333      3.057333        3.758000      1.199333\n",
       "std         0.828066      0.435866        1.765298      0.762238\n",
       "min         4.300000      2.000000        1.000000      0.100000\n",
       "25%         5.100000      2.800000        1.600000      0.300000\n",
       "50%         5.800000      3.000000        4.350000      1.300000\n",
       "75%         6.400000      3.300000        5.100000      1.800000\n",
       "max         7.900000      4.400000        6.900000      2.500000"
      ]
     },
     "execution_count": 2,
     "metadata": {},
     "output_type": "execute_result"
    }
   ],
   "source": [
    "import pandas as pd\n",
    "from sklearn import svm\n",
    "from sklearn import datasets\n",
    "from sklearn import metrics\n",
    "clf = svm.SVC(gamma='scale')\n",
    "iris = datasets.load_iris()\n",
    "df_data=pd.DataFrame(data=iris.data,columns=[ 'sepal length ','sepal width ',' petal length ','petal width ']) \n",
    "df_data.describe()"
   ]
  },
  {
   "cell_type": "code",
   "execution_count": 3,
   "metadata": {},
   "outputs": [
    {
     "data": {
      "text/html": [
       "<div>\n",
       "<style scoped>\n",
       "    .dataframe tbody tr th:only-of-type {\n",
       "        vertical-align: middle;\n",
       "    }\n",
       "\n",
       "    .dataframe tbody tr th {\n",
       "        vertical-align: top;\n",
       "    }\n",
       "\n",
       "    .dataframe thead th {\n",
       "        text-align: right;\n",
       "    }\n",
       "</style>\n",
       "<table border=\"1\" class=\"dataframe\">\n",
       "  <thead>\n",
       "    <tr style=\"text-align: right;\">\n",
       "      <th></th>\n",
       "      <th>sepal length</th>\n",
       "      <th>sepal width</th>\n",
       "      <th>petal length</th>\n",
       "      <th>petal width</th>\n",
       "    </tr>\n",
       "  </thead>\n",
       "  <tbody>\n",
       "    <tr>\n",
       "      <th>0</th>\n",
       "      <td>5.1</td>\n",
       "      <td>3.5</td>\n",
       "      <td>1.4</td>\n",
       "      <td>0.2</td>\n",
       "    </tr>\n",
       "    <tr>\n",
       "      <th>1</th>\n",
       "      <td>4.9</td>\n",
       "      <td>3.0</td>\n",
       "      <td>1.4</td>\n",
       "      <td>0.2</td>\n",
       "    </tr>\n",
       "    <tr>\n",
       "      <th>2</th>\n",
       "      <td>4.7</td>\n",
       "      <td>3.2</td>\n",
       "      <td>1.3</td>\n",
       "      <td>0.2</td>\n",
       "    </tr>\n",
       "    <tr>\n",
       "      <th>3</th>\n",
       "      <td>4.6</td>\n",
       "      <td>3.1</td>\n",
       "      <td>1.5</td>\n",
       "      <td>0.2</td>\n",
       "    </tr>\n",
       "    <tr>\n",
       "      <th>4</th>\n",
       "      <td>5.0</td>\n",
       "      <td>3.6</td>\n",
       "      <td>1.4</td>\n",
       "      <td>0.2</td>\n",
       "    </tr>\n",
       "  </tbody>\n",
       "</table>\n",
       "</div>"
      ],
      "text/plain": [
       "   sepal length   sepal width    petal length   petal width \n",
       "0            5.1           3.5             1.4           0.2\n",
       "1            4.9           3.0             1.4           0.2\n",
       "2            4.7           3.2             1.3           0.2\n",
       "3            4.6           3.1             1.5           0.2\n",
       "4            5.0           3.6             1.4           0.2"
      ]
     },
     "execution_count": 3,
     "metadata": {},
     "output_type": "execute_result"
    }
   ],
   "source": [
    "df_data.head()"
   ]
  },
  {
   "cell_type": "code",
   "execution_count": 4,
   "metadata": {},
   "outputs": [
    {
     "data": {
      "text/html": [
       "<div>\n",
       "<style scoped>\n",
       "    .dataframe tbody tr th:only-of-type {\n",
       "        vertical-align: middle;\n",
       "    }\n",
       "\n",
       "    .dataframe tbody tr th {\n",
       "        vertical-align: top;\n",
       "    }\n",
       "\n",
       "    .dataframe thead th {\n",
       "        text-align: right;\n",
       "    }\n",
       "</style>\n",
       "<table border=\"1\" class=\"dataframe\">\n",
       "  <thead>\n",
       "    <tr style=\"text-align: right;\">\n",
       "      <th></th>\n",
       "      <th>0</th>\n",
       "    </tr>\n",
       "  </thead>\n",
       "  <tbody>\n",
       "    <tr>\n",
       "      <th>0</th>\n",
       "      <td>0</td>\n",
       "    </tr>\n",
       "    <tr>\n",
       "      <th>1</th>\n",
       "      <td>0</td>\n",
       "    </tr>\n",
       "    <tr>\n",
       "      <th>2</th>\n",
       "      <td>0</td>\n",
       "    </tr>\n",
       "    <tr>\n",
       "      <th>3</th>\n",
       "      <td>0</td>\n",
       "    </tr>\n",
       "    <tr>\n",
       "      <th>4</th>\n",
       "      <td>0</td>\n",
       "    </tr>\n",
       "  </tbody>\n",
       "</table>\n",
       "</div>"
      ],
      "text/plain": [
       "   0\n",
       "0  0\n",
       "1  0\n",
       "2  0\n",
       "3  0\n",
       "4  0"
      ]
     },
     "execution_count": 4,
     "metadata": {},
     "output_type": "execute_result"
    }
   ],
   "source": [
    "df_target=pd.DataFrame(data=iris.target)\n",
    "df_target.head()"
   ]
  },
  {
   "cell_type": "code",
   "execution_count": 5,
   "metadata": {},
   "outputs": [
    {
     "data": {
      "text/plain": [
       "0.9866666666666667"
      ]
     },
     "execution_count": 5,
     "metadata": {},
     "output_type": "execute_result"
    }
   ],
   "source": [
    "X, y = iris.data, iris.target\n",
    "clf.fit(X, y)  \n",
    "\n",
    "y_pred = clf.predict(X)\n",
    "metrics.accuracy_score(y, y_pred)"
   ]
  },
  {
   "cell_type": "markdown",
   "metadata": {},
   "source": [
    "# Basic deep learning"
   ]
  },
  {
   "cell_type": "code",
   "execution_count": 6,
   "metadata": {},
   "outputs": [
    {
     "data": {
      "text/plain": [
       "<matplotlib.image.AxesImage at 0x7f1d35fae160>"
      ]
     },
     "execution_count": 6,
     "metadata": {},
     "output_type": "execute_result"
    }
   ],
   "source": [
    "import matplotlib.pyplot as plt\n",
    "import matplotlib.image as mpimg\n",
    "import numpy as np\n",
    "img=mpimg.imread('/home/cse31/Desktop/machine_learning/DL_1.png')\n",
    "plt.figure(figsize=(100,100))\n",
    "plt.imshow(img)"
   ]
  },
  {
   "cell_type": "markdown",
   "metadata": {
    "colab_type": "text",
    "id": ""
   },
   "source": [
    "# Deep Learning Basics\n",
    "\n",
    "\n",
    "![Deep learning concepts](https://i.imgur.com/EAl47rp.png)\n",
    "\n",
    "At a high-level, neural networks are either encoders, decoders, or a combination of both. Encoders find patterns in raw data to form compact, useful representations. Decoders generate new data or high-resolution useful infomation from those representations.  Deep learning discovers ways to **represent** the world so that we can reason about it. The rest is clever methods that help use deal effectively with visual information, language, sound (#1-6) and even act in a world based on this information and occasional rewards (#7).\n",
    "\n",
    "1. **Feed Forward Neural Networks (FFNNs)** - classification and regression based on features. \n",
    "2. **Convolutional Neural Networks (CNNs)** - image classification, object detection, video action recognition, etc.\n",
    "3. **Recurrent Neural Networks (RNNs)** - language modeling, speech recognition/generation, etc.\n",
    "4. **Encoder Decoder Architectures** - semantic segmentation, machine translation, etc.\n",
    "5. **Autoencoder** - unsupervised embeddings, denoising, etc.\n",
    "6. **Generative Adversarial Networks (GANs)** - unsupervised generation of realistic images, etc.\n",
    "7. **Deep Reinforcement Learning** - game playing, robotics in simulation, self-play, neural arhitecture search, etc. We'll be releasing notebooks on this soon and will link them here.\n",
    "\n"
   ]
  },
  {
   "cell_type": "code",
   "execution_count": 7,
   "metadata": {
    "colab": {},
    "colab_type": "code",
    "id": ""
   },
   "outputs": [
    {
     "name": "stderr",
     "output_type": "stream",
     "text": [
      "Using TensorFlow backend.\n"
     ]
    }
   ],
   "source": [
    "from keras import models\n",
    "from keras import layers\n",
    "\n",
    "# Commonly used modules\n",
    "import numpy as np\n",
    "import os\n",
    "import sys\n",
    "\n",
    "# Images, plots, display, and visualization\n",
    "import matplotlib.pyplot as plt\n",
    "import pandas as pd\n",
    "import seaborn as sns\n",
    "import cv2\n",
    "import IPython\n",
    "from six.moves import urllib\n",
    "\n"
   ]
  },
  {
   "cell_type": "markdown",
   "metadata": {},
   "source": [
    "## Classification of MNIST digit dataset\n",
    "\n",
    "Let's build a simple fully connected neural network  classifier to classify images of handwritten digits in the MNIST dataset ."
   ]
  },
  {
   "cell_type": "markdown",
   "metadata": {
    "colab_type": "text",
    "id": ""
   },
   "source": [
    "The MNIST dataset containss 70,000 grayscale images of handwritten digits at a resolution of 28 by 28 pixels. The task is to take one of these images as input and predict the most likely digit contained in the image (along with a relative confidence in this prediction):\n",
    "\n",
    "<img src=\"https://i.imgur.com/ITrm9x4.png\" width=\"500px\">\n",
    "\n",
    "Now, we load the dataset. The images are 28x28 NumPy arrays, with pixel values ranging between 0 and 255. The *labels* are an array of integers, ranging from 0 to 9."
   ]
  },
  {
   "cell_type": "code",
   "execution_count": 8,
   "metadata": {
    "colab": {},
    "colab_type": "code",
    "id": ""
   },
   "outputs": [
    {
     "data": {
      "image/png": "[encoded data removed]",
      "text/plain": [
       "<Figure size 720x144 with 5 Axes>"
      ]
     },
     "metadata": {},
     "output_type": "display_data"
    }
   ],
   "source": [
    "from keras.datasets import mnist\n",
    "\n",
    "(train_images, train_labels), (test_images, test_labels) = mnist.load_data()\n",
    "plt.figure(figsize=(10,2))\n",
    "for i in range(5):\n",
    "    plt.subplot(1,5,i+1)\n",
    "    plt.xticks([])\n",
    "    plt.yticks([])\n",
    "    plt.grid(False)\n",
    "    plt.imshow(train_images[i].reshape(28, 28), cmap=plt.cm.binary)\n",
    "    plt.xlabel(train_labels[i])"
   ]
  },
  {
   "cell_type": "markdown",
   "metadata": {
    "colab_type": "text",
    "id": ""
   },
   "source": [
    "# Preprocess the data\n"
   ]
  },
  {
   "cell_type": "code",
   "execution_count": 9,
   "metadata": {},
   "outputs": [
    {
     "data": {
      "text/plain": [
       "array([[0., 0., 0., ..., 1., 0., 0.],\n",
       "       [0., 0., 1., ..., 0., 0., 0.],\n",
       "       [0., 1., 0., ..., 0., 0., 0.],\n",
       "       ...,\n",
       "       [0., 0., 0., ..., 0., 0., 0.],\n",
       "       [0., 0., 0., ..., 0., 0., 0.],\n",
       "       [0., 0., 0., ..., 0., 0., 0.]], dtype=float32)"
      ]
     },
     "execution_count": 9,
     "metadata": {},
     "output_type": "execute_result"
    }
   ],
   "source": [
    "from keras.utils import to_categorical\n",
    "train_images.shape\n",
    "test_images.shape\n",
    "train_images = train_images.reshape((60000, 28 * 28))\n",
    "train_images = train_images.astype('float32') / 255\n",
    "\n",
    "test_images = test_images.reshape((10000, 28 * 28))\n",
    "test_images = test_images.astype('float32') / 255\n",
    "\n",
    "\n",
    "\n",
    "\n",
    "train_labels = to_categorical(train_labels)\n",
    "test_labels = to_categorical(test_labels)\n",
    "\n",
    "test_labels"
   ]
  },
  {
   "cell_type": "markdown",
   "metadata": {
    "colab_type": "text",
    "id": ""
   },
   "source": [
    "### Build the model\n",
    "\n",
    "Building the neural network requires configuring the layers of the model, then compiling the model. In many cases, this can be reduced to simply stacking together layers:"
   ]
  },
  {
   "cell_type": "code",
   "execution_count": 10,
   "metadata": {
    "colab": {},
    "colab_type": "code",
    "id": ""
   },
   "outputs": [],
   "source": [
    "model = models.Sequential()\n",
    "model.add(layers.Dense(10, activation='relu', input_shape=(28 * 28,)))\n",
    "model.add(layers.Dense(10, activation='softmax'))"
   ]
  },
  {
   "cell_type": "markdown",
   "metadata": {
    "colab_type": "text",
    "id": ""
   },
   "source": [
    "Before the model is ready for training, it needs a few more settings. These are added during the model's *compile* step:\n",
    "\n",
    "* *Loss function* - measures how accurate the model is during training, we want to minimize this with the optimizer.\n",
    "* *Optimizer* - how the model is updated based on the data it sees and its loss function.\n",
    "* *Metrics* - used to monitor the training and testing steps. \"accuracy\" is the fraction of images that are correctly classified."
   ]
  },
  {
   "cell_type": "code",
   "execution_count": 11,
   "metadata": {
    "colab": {},
    "colab_type": "code",
    "id": ""
   },
   "outputs": [],
   "source": [
    "model.compile(optimizer='rmsprop',\n",
    "                loss='categorical_crossentropy',\n",
    "                metrics=['accuracy'])"
   ]
  },
  {
   "cell_type": "markdown",
   "metadata": {
    "colab_type": "text",
    "id": ""
   },
   "source": [
    "### Train the model\n",
    "\n",
    "Training the neural network model requires the following steps:\n",
    "\n",
    "1. Feed the training data to the model—in this example, the `train_images` and `train_labels` arrays.\n",
    "2. The model learns to associate images and labels.\n",
    "3. We ask the model to make predictions about a test set—in this example, the `test_images` array. We verify that the predictions match the labels from the `test_labels` array. \n",
    "\n",
    "To start training,  call the `model.fit` method—the model is \"fit\" to the training data:"
   ]
  },
  {
   "cell_type": "code",
   "execution_count": 15,
   "metadata": {
    "colab": {},
    "colab_type": "code",
    "id": ""
   },
   "outputs": [
    {
     "name": "stdout",
     "output_type": "stream",
     "text": [
      "Train on 48000 samples, validate on 12000 samples\n",
      "Epoch 1/10\n",
      "48000/48000 [==============================] - 1s 22us/step - loss: 0.1888 - acc: 0.9507 - val_loss: 0.1912 - val_acc: 0.9523\n",
      "Epoch 2/10\n",
      "48000/48000 [==============================] - 1s 22us/step - loss: 0.1864 - acc: 0.9511 - val_loss: 0.1987 - val_acc: 0.9500\n",
      "Epoch 3/10\n",
      "48000/48000 [==============================] - 1s 21us/step - loss: 0.1864 - acc: 0.9516 - val_loss: 0.1904 - val_acc: 0.9527\n",
      "Epoch 4/10\n",
      "48000/48000 [==============================] - 1s 21us/step - loss: 0.1854 - acc: 0.9520 - val_loss: 0.1950 - val_acc: 0.9523\n",
      "Epoch 5/10\n",
      "48000/48000 [==============================] - 1s 27us/step - loss: 0.1856 - acc: 0.9520 - val_loss: 0.1991 - val_acc: 0.9513\n",
      "Epoch 6/10\n",
      "48000/48000 [==============================] - 1s 28us/step - loss: 0.1851 - acc: 0.9526 - val_loss: 0.2057 - val_acc: 0.9475\n",
      "Epoch 7/10\n",
      "48000/48000 [==============================] - 1s 21us/step - loss: 0.1843 - acc: 0.9525 - val_loss: 0.2024 - val_acc: 0.9487\n",
      "Epoch 8/10\n",
      "48000/48000 [==============================] - 1s 21us/step - loss: 0.1839 - acc: 0.9526 - val_loss: 0.2120 - val_acc: 0.9475\n",
      "Epoch 9/10\n",
      "48000/48000 [==============================] - 1s 22us/step - loss: 0.1842 - acc: 0.9526 - val_loss: 0.2147 - val_acc: 0.9473\n",
      "Epoch 10/10\n",
      "48000/48000 [==============================] - 1s 22us/step - loss: 0.1833 - acc: 0.9530 - val_loss: 0.2171 - val_acc: 0.9455\n"
     ]
    },
    {
     "data": {
      "image/png": "[encoded data removed]",
      "text/plain": [
       "<Figure size 432x288 with 1 Axes>"
      ]
     },
     "metadata": {
      "needs_background": "light"
     },
     "output_type": "display_data"
    },
    {
     "data": {
      "image/png": "[encoded data removed]",
      "text/plain": [
       "<Figure size 432x288 with 1 Axes>"
      ]
     },
     "metadata": {
      "needs_background": "light"
     },
     "output_type": "display_data"
    }
   ],
   "source": [
    "history = model.fit(train_images, train_labels, validation_split=0.2, epochs=10, batch_size=32, verbose=1)\n",
    "\n",
    "# Plot training & validation accuracy values\n",
    "plt.plot(history.history['acc'])\n",
    "plt.plot(history.history['val_acc'])\n",
    "plt.title('Model accuracy')\n",
    "plt.ylabel('Accuracy')\n",
    "plt.xlabel('Epoch')\n",
    "plt.legend(['Train', 'Test'], loc='upper left')\n",
    "plt.show()\n",
    "\n",
    "# Plot training & validation loss values\n",
    "plt.plot(history.history['loss'])\n",
    "plt.plot(history.history['val_loss'])\n",
    "plt.title('Model loss')\n",
    "plt.ylabel('Loss')\n",
    "plt.xlabel('Epoch')\n",
    "plt.legend(['Train', 'Test'], loc='upper left')\n",
    "plt.show()"
   ]
  },
  {
   "cell_type": "code",
   "execution_count": 16,
   "metadata": {},
   "outputs": [
    {
     "name": "stdout",
     "output_type": "stream",
     "text": [
      "Train on 54000 samples, validate on 6000 samples\n",
      "Epoch 1/100\n",
      "54000/54000 [==============================] - 1s 21us/step - loss: 0.1907 - acc: 0.9514 - val_loss: 0.1757 - val_acc: 0.9555\n",
      "Epoch 2/100\n",
      "54000/54000 [==============================] - 1s 22us/step - loss: 0.1904 - acc: 0.9513 - val_loss: 0.1702 - val_acc: 0.9553\n",
      "Epoch 3/100\n",
      "54000/54000 [==============================] - 1s 24us/step - loss: 0.1901 - acc: 0.9512 - val_loss: 0.1737 - val_acc: 0.9543\n",
      "Epoch 4/100\n",
      "54000/54000 [==============================] - 1s 25us/step - loss: 0.1902 - acc: 0.9519 - val_loss: 0.1766 - val_acc: 0.9545\n",
      "Epoch 5/100\n",
      "54000/54000 [==============================] - 1s 21us/step - loss: 0.1888 - acc: 0.9517 - val_loss: 0.1805 - val_acc: 0.9518\n",
      "Epoch 6/100\n",
      "54000/54000 [==============================] - 1s 25us/step - loss: 0.1888 - acc: 0.9523 - val_loss: 0.1801 - val_acc: 0.9540\n",
      "Epoch 7/100\n",
      "54000/54000 [==============================] - 1s 21us/step - loss: 0.1884 - acc: 0.9518 - val_loss: 0.1883 - val_acc: 0.9533\n",
      "Epoch 8/100\n",
      "54000/54000 [==============================] - 1s 20us/step - loss: 0.1880 - acc: 0.9519 - val_loss: 0.1893 - val_acc: 0.9538\n",
      "Epoch 9/100\n",
      "54000/54000 [==============================] - 1s 20us/step - loss: 0.1884 - acc: 0.9516 - val_loss: 0.1816 - val_acc: 0.9532\n",
      "Epoch 10/100\n",
      "54000/54000 [==============================] - 1s 24us/step - loss: 0.1883 - acc: 0.9519 - val_loss: 0.1822 - val_acc: 0.9533\n",
      "Epoch 11/100\n",
      "54000/54000 [==============================] - 1s 27us/step - loss: 0.1885 - acc: 0.9522 - val_loss: 0.1920 - val_acc: 0.9515\n",
      "Epoch 12/100\n",
      "54000/54000 [==============================] - 1s 24us/step - loss: 0.1890 - acc: 0.9515 - val_loss: 0.1864 - val_acc: 0.9538\n",
      "Epoch 13/100\n",
      "54000/54000 [==============================] - 1s 27us/step - loss: 0.1885 - acc: 0.9512 - val_loss: 0.1834 - val_acc: 0.9535\n",
      "Epoch 14/100\n",
      "54000/54000 [==============================] - 1s 21us/step - loss: 0.1881 - acc: 0.9514 - val_loss: 0.1892 - val_acc: 0.9533\n",
      "Epoch 15/100\n",
      "54000/54000 [==============================] - 1s 21us/step - loss: 0.1889 - acc: 0.9524 - val_loss: 0.1863 - val_acc: 0.9523\n",
      "Epoch 16/100\n",
      "54000/54000 [==============================] - 1s 21us/step - loss: 0.1886 - acc: 0.9519 - val_loss: 0.1866 - val_acc: 0.9512\n",
      "Epoch 17/100\n",
      "54000/54000 [==============================] - 1s 21us/step - loss: 0.1878 - acc: 0.9521 - val_loss: 0.1911 - val_acc: 0.9510\n",
      "Epoch 18/100\n",
      "54000/54000 [==============================] - 1s 21us/step - loss: 0.1878 - acc: 0.9521 - val_loss: 0.1932 - val_acc: 0.9502\n",
      "Epoch 19/100\n",
      "54000/54000 [==============================] - 1s 21us/step - loss: 0.1877 - acc: 0.9521 - val_loss: 0.1947 - val_acc: 0.9507\n",
      "Epoch 20/100\n",
      "54000/54000 [==============================] - 1s 21us/step - loss: 0.1879 - acc: 0.9522 - val_loss: 0.1920 - val_acc: 0.9502\n",
      "Epoch 21/100\n",
      "54000/54000 [==============================] - 1s 21us/step - loss: 0.1866 - acc: 0.9520 - val_loss: 0.1953 - val_acc: 0.9515\n",
      "Epoch 22/100\n",
      "54000/54000 [==============================] - 1s 21us/step - loss: 0.1877 - acc: 0.9522 - val_loss: 0.1933 - val_acc: 0.9515\n",
      "Epoch 23/100\n",
      "54000/54000 [==============================] - 1s 21us/step - loss: 0.1870 - acc: 0.9518 - val_loss: 0.2013 - val_acc: 0.9505\n",
      "Epoch 24/100\n",
      "54000/54000 [==============================] - 1s 21us/step - loss: 0.1874 - acc: 0.9526 - val_loss: 0.2001 - val_acc: 0.9498\n",
      "Epoch 25/100\n",
      "54000/54000 [==============================] - 1s 21us/step - loss: 0.1865 - acc: 0.9523 - val_loss: 0.1945 - val_acc: 0.9480\n",
      "Epoch 26/100\n",
      "54000/54000 [==============================] - 1s 21us/step - loss: 0.1868 - acc: 0.9526 - val_loss: 0.2011 - val_acc: 0.9478\n",
      "Epoch 27/100\n",
      "54000/54000 [==============================] - 1s 21us/step - loss: 0.1871 - acc: 0.9521 - val_loss: 0.2087 - val_acc: 0.9472\n",
      "Epoch 28/100\n",
      "54000/54000 [==============================] - 1s 21us/step - loss: 0.1877 - acc: 0.9524 - val_loss: 0.1974 - val_acc: 0.9515\n",
      "Epoch 29/100\n",
      "54000/54000 [==============================] - 1s 21us/step - loss: 0.1871 - acc: 0.9527 - val_loss: 0.2005 - val_acc: 0.9497\n",
      "Epoch 30/100\n",
      "54000/54000 [==============================] - 1s 24us/step - loss: 0.1881 - acc: 0.9516 - val_loss: 0.2031 - val_acc: 0.9512\n",
      "Epoch 31/100\n",
      "54000/54000 [==============================] - 1s 21us/step - loss: 0.1879 - acc: 0.9520 - val_loss: 0.2026 - val_acc: 0.9522\n",
      "Epoch 32/100\n",
      "54000/54000 [==============================] - 1s 21us/step - loss: 0.1877 - acc: 0.9520 - val_loss: 0.2135 - val_acc: 0.9482\n",
      "Epoch 33/100\n",
      "54000/54000 [==============================] - 1s 24us/step - loss: 0.1887 - acc: 0.9521 - val_loss: 0.2110 - val_acc: 0.9483\n",
      "Epoch 34/100\n",
      "54000/54000 [==============================] - 2s 29us/step - loss: 0.1880 - acc: 0.9521 - val_loss: 0.2102 - val_acc: 0.9490\n",
      "Epoch 35/100\n",
      "54000/54000 [==============================] - 1s 24us/step - loss: 0.1874 - acc: 0.9519 - val_loss: 0.2088 - val_acc: 0.9510\n",
      "Epoch 36/100\n",
      "54000/54000 [==============================] - 1s 20us/step - loss: 0.1875 - acc: 0.9529 - val_loss: 0.2095 - val_acc: 0.9493\n",
      "Epoch 37/100\n",
      "54000/54000 [==============================] - 1s 25us/step - loss: 0.1877 - acc: 0.9527 - val_loss: 0.2057 - val_acc: 0.9478\n",
      "Epoch 38/100\n",
      "54000/54000 [==============================] - 1s 24us/step - loss: 0.1880 - acc: 0.9529 - val_loss: 0.2056 - val_acc: 0.9513\n",
      "Epoch 39/100\n",
      "54000/54000 [==============================] - 1s 20us/step - loss: 0.1877 - acc: 0.9532 - val_loss: 0.2156 - val_acc: 0.9467\n",
      "Epoch 40/100\n",
      "54000/54000 [==============================] - 1s 21us/step - loss: 0.1879 - acc: 0.9519 - val_loss: 0.2030 - val_acc: 0.9488\n",
      "Epoch 41/100\n",
      "54000/54000 [==============================] - 1s 21us/step - loss: 0.1874 - acc: 0.9524 - val_loss: 0.2221 - val_acc: 0.9468\n",
      "Epoch 42/100\n",
      "54000/54000 [==============================] - 1s 23us/step - loss: 0.1883 - acc: 0.9528 - val_loss: 0.2218 - val_acc: 0.9475\n",
      "Epoch 43/100\n",
      "54000/54000 [==============================] - 1s 21us/step - loss: 0.1878 - acc: 0.9527 - val_loss: 0.2116 - val_acc: 0.9512\n",
      "Epoch 44/100\n",
      "54000/54000 [==============================] - 1s 20us/step - loss: 0.1872 - acc: 0.9526 - val_loss: 0.2127 - val_acc: 0.9502\n",
      "Epoch 45/100\n",
      "54000/54000 [==============================] - 1s 20us/step - loss: 0.1872 - acc: 0.9528 - val_loss: 0.2186 - val_acc: 0.9472\n",
      "Epoch 46/100\n",
      "54000/54000 [==============================] - 1s 21us/step - loss: 0.1881 - acc: 0.9523 - val_loss: 0.2110 - val_acc: 0.9500\n",
      "Epoch 47/100\n",
      "54000/54000 [==============================] - 1s 21us/step - loss: 0.1875 - acc: 0.9527 - val_loss: 0.2245 - val_acc: 0.9447\n",
      "Epoch 48/100\n",
      "54000/54000 [==============================] - 1s 20us/step - loss: 0.1871 - acc: 0.9525 - val_loss: 0.2186 - val_acc: 0.9495\n",
      "Epoch 49/100\n",
      "54000/54000 [==============================] - 1s 20us/step - loss: 0.1873 - acc: 0.9529 - val_loss: 0.2156 - val_acc: 0.9463\n",
      "Epoch 50/100\n",
      "54000/54000 [==============================] - 1s 21us/step - loss: 0.1871 - acc: 0.9535 - val_loss: 0.2200 - val_acc: 0.9495\n",
      "Epoch 51/100\n",
      "54000/54000 [==============================] - 1s 21us/step - loss: 0.1875 - acc: 0.9534 - val_loss: 0.2211 - val_acc: 0.9460\n",
      "Epoch 52/100\n",
      "54000/54000 [==============================] - 1s 20us/step - loss: 0.1873 - acc: 0.9530 - val_loss: 0.2211 - val_acc: 0.9483\n",
      "Epoch 53/100\n",
      "54000/54000 [==============================] - 1s 20us/step - loss: 0.1873 - acc: 0.9535 - val_loss: 0.2150 - val_acc: 0.9488\n",
      "Epoch 54/100\n",
      "54000/54000 [==============================] - 1s 20us/step - loss: 0.1868 - acc: 0.9531 - val_loss: 0.2115 - val_acc: 0.9498\n",
      "Epoch 55/100\n",
      "54000/54000 [==============================] - 1s 21us/step - loss: 0.1879 - acc: 0.9532 - val_loss: 0.2125 - val_acc: 0.9493\n",
      "Epoch 56/100\n",
      "54000/54000 [==============================] - 1s 21us/step - loss: 0.1878 - acc: 0.9531 - val_loss: 0.2213 - val_acc: 0.9485\n",
      "Epoch 57/100\n",
      "54000/54000 [==============================] - 1s 20us/step - loss: 0.1879 - acc: 0.9534 - val_loss: 0.2289 - val_acc: 0.9462\n",
      "Epoch 58/100\n",
      "54000/54000 [==============================] - 1s 20us/step - loss: 0.1871 - acc: 0.9533 - val_loss: 0.2199 - val_acc: 0.9495\n",
      "Epoch 59/100\n"
     ]
    },
    {
     "name": "stdout",
     "output_type": "stream",
     "text": [
      "54000/54000 [==============================] - 1s 20us/step - loss: 0.1882 - acc: 0.9532 - val_loss: 0.2174 - val_acc: 0.9485\n",
      "Epoch 60/100\n",
      "54000/54000 [==============================] - 1s 21us/step - loss: 0.1863 - acc: 0.9535 - val_loss: 0.2247 - val_acc: 0.9478\n",
      "Epoch 61/100\n",
      "54000/54000 [==============================] - 1s 20us/step - loss: 0.1873 - acc: 0.9529 - val_loss: 0.2204 - val_acc: 0.9468\n",
      "Epoch 62/100\n",
      "54000/54000 [==============================] - 1s 20us/step - loss: 0.1873 - acc: 0.9526 - val_loss: 0.2214 - val_acc: 0.9485\n",
      "Epoch 63/100\n",
      "54000/54000 [==============================] - 1s 20us/step - loss: 0.1869 - acc: 0.9531 - val_loss: 0.2198 - val_acc: 0.9503\n",
      "Epoch 64/100\n",
      "54000/54000 [==============================] - 1s 19us/step - loss: 0.1881 - acc: 0.9531 - val_loss: 0.2230 - val_acc: 0.9470\n",
      "Epoch 65/100\n",
      "54000/54000 [==============================] - 1s 20us/step - loss: 0.1874 - acc: 0.9535 - val_loss: 0.2236 - val_acc: 0.9462\n",
      "Epoch 66/100\n",
      "54000/54000 [==============================] - 1s 20us/step - loss: 0.1869 - acc: 0.9534 - val_loss: 0.2217 - val_acc: 0.9468\n",
      "Epoch 67/100\n",
      "54000/54000 [==============================] - 1s 20us/step - loss: 0.1874 - acc: 0.9541 - val_loss: 0.2365 - val_acc: 0.9453\n",
      "Epoch 68/100\n",
      "54000/54000 [==============================] - 1s 20us/step - loss: 0.1868 - acc: 0.9539 - val_loss: 0.2215 - val_acc: 0.9478\n",
      "Epoch 69/100\n",
      "54000/54000 [==============================] - 1s 20us/step - loss: 0.1861 - acc: 0.9535 - val_loss: 0.2255 - val_acc: 0.9470\n",
      "Epoch 70/100\n",
      "54000/54000 [==============================] - 1s 20us/step - loss: 0.1875 - acc: 0.9535 - val_loss: 0.2237 - val_acc: 0.9467\n",
      "Epoch 71/100\n",
      "54000/54000 [==============================] - 1s 20us/step - loss: 0.1880 - acc: 0.9529 - val_loss: 0.2297 - val_acc: 0.9475\n",
      "Epoch 72/100\n",
      "54000/54000 [==============================] - 1s 20us/step - loss: 0.1873 - acc: 0.9535 - val_loss: 0.2322 - val_acc: 0.9453\n",
      "Epoch 73/100\n",
      "54000/54000 [==============================] - 1s 24us/step - loss: 0.1884 - acc: 0.9539 - val_loss: 0.2288 - val_acc: 0.9450\n",
      "Epoch 74/100\n",
      "54000/54000 [==============================] - 1s 25us/step - loss: 0.1865 - acc: 0.9542 - val_loss: 0.2305 - val_acc: 0.9483\n",
      "Epoch 75/100\n",
      "54000/54000 [==============================] - 1s 26us/step - loss: 0.1880 - acc: 0.9532 - val_loss: 0.2400 - val_acc: 0.9440\n",
      "Epoch 76/100\n",
      "54000/54000 [==============================] - 1s 22us/step - loss: 0.1880 - acc: 0.9531 - val_loss: 0.2281 - val_acc: 0.9483\n",
      "Epoch 77/100\n",
      "54000/54000 [==============================] - 1s 22us/step - loss: 0.1879 - acc: 0.9535 - val_loss: 0.2293 - val_acc: 0.9458\n",
      "Epoch 78/100\n",
      "54000/54000 [==============================] - 1s 24us/step - loss: 0.1865 - acc: 0.9531 - val_loss: 0.2293 - val_acc: 0.9473\n",
      "Epoch 79/100\n",
      "54000/54000 [==============================] - 1s 22us/step - loss: 0.1877 - acc: 0.9538 - val_loss: 0.2354 - val_acc: 0.9467\n",
      "Epoch 80/100\n",
      "54000/54000 [==============================] - 1s 19us/step - loss: 0.1876 - acc: 0.9533 - val_loss: 0.2261 - val_acc: 0.9458\n",
      "Epoch 81/100\n",
      "54000/54000 [==============================] - 1s 20us/step - loss: 0.1882 - acc: 0.9530 - val_loss: 0.2328 - val_acc: 0.9472\n",
      "Epoch 82/100\n",
      "54000/54000 [==============================] - 1s 18us/step - loss: 0.1877 - acc: 0.9540 - val_loss: 0.2357 - val_acc: 0.9455\n",
      "Epoch 83/100\n",
      "54000/54000 [==============================] - 1s 18us/step - loss: 0.1884 - acc: 0.9533 - val_loss: 0.2331 - val_acc: 0.9467\n",
      "Epoch 84/100\n",
      "54000/54000 [==============================] - 1s 18us/step - loss: 0.1871 - acc: 0.9530 - val_loss: 0.2292 - val_acc: 0.9445\n",
      "Epoch 85/100\n",
      "54000/54000 [==============================] - 1s 18us/step - loss: 0.1881 - acc: 0.9531 - val_loss: 0.2285 - val_acc: 0.9452\n",
      "Epoch 86/100\n",
      "54000/54000 [==============================] - 1s 19us/step - loss: 0.1877 - acc: 0.9526 - val_loss: 0.2399 - val_acc: 0.9452\n",
      "Epoch 87/100\n",
      "54000/54000 [==============================] - 1s 19us/step - loss: 0.1871 - acc: 0.9525 - val_loss: 0.2348 - val_acc: 0.9457\n",
      "Epoch 88/100\n",
      "54000/54000 [==============================] - 1s 18us/step - loss: 0.1876 - acc: 0.9534 - val_loss: 0.2374 - val_acc: 0.9470\n",
      "Epoch 89/100\n",
      "54000/54000 [==============================] - 1s 18us/step - loss: 0.1878 - acc: 0.9536 - val_loss: 0.2331 - val_acc: 0.9473\n",
      "Epoch 90/100\n",
      "54000/54000 [==============================] - 1s 18us/step - loss: 0.1874 - acc: 0.9536 - val_loss: 0.2352 - val_acc: 0.9452\n",
      "Epoch 91/100\n",
      "54000/54000 [==============================] - 1s 21us/step - loss: 0.1867 - acc: 0.9539 - val_loss: 0.2347 - val_acc: 0.9447\n",
      "Epoch 92/100\n",
      "54000/54000 [==============================] - 1s 21us/step - loss: 0.1875 - acc: 0.9539 - val_loss: 0.2374 - val_acc: 0.9475\n",
      "Epoch 93/100\n",
      "54000/54000 [==============================] - 1s 20us/step - loss: 0.1889 - acc: 0.9536 - val_loss: 0.2498 - val_acc: 0.9438\n",
      "Epoch 94/100\n",
      "54000/54000 [==============================] - 1s 19us/step - loss: 0.1882 - acc: 0.9538 - val_loss: 0.2412 - val_acc: 0.9452\n",
      "Epoch 95/100\n",
      "54000/54000 [==============================] - 1s 18us/step - loss: 0.1888 - acc: 0.9532 - val_loss: 0.2419 - val_acc: 0.9452\n",
      "Epoch 96/100\n",
      "54000/54000 [==============================] - 1s 20us/step - loss: 0.1877 - acc: 0.9536 - val_loss: 0.2403 - val_acc: 0.9453\n",
      "Epoch 97/100\n",
      "54000/54000 [==============================] - 1s 19us/step - loss: 0.1888 - acc: 0.9540 - val_loss: 0.2484 - val_acc: 0.9445\n",
      "Epoch 98/100\n",
      "54000/54000 [==============================] - 1s 20us/step - loss: 0.1886 - acc: 0.9537 - val_loss: 0.2440 - val_acc: 0.9435\n",
      "Epoch 99/100\n",
      "54000/54000 [==============================] - 1s 19us/step - loss: 0.1878 - acc: 0.9539 - val_loss: 0.2359 - val_acc: 0.9473\n",
      "Epoch 100/100\n",
      "54000/54000 [==============================] - 1s 18us/step - loss: 0.1883 - acc: 0.9539 - val_loss: 0.2373 - val_acc: 0.9473\n"
     ]
    },
    {
     "data": {
      "image/png": "[encoded data removed]",
      "text/plain": [
       "<Figure size 432x288 with 1 Axes>"
      ]
     },
     "metadata": {
      "needs_background": "light"
     },
     "output_type": "display_data"
    },
    {
     "data": {
      "image/png": "[encoded data removed]",
      "text/plain": [
       "<Figure size 432x288 with 1 Axes>"
      ]
     },
     "metadata": {
      "needs_background": "light"
     },
     "output_type": "display_data"
    }
   ],
   "source": [
    "history = model.fit(train_images, train_labels, validation_split=0.10, epochs=100, batch_size=32, verbose=1)\n",
    "\n",
    "# Plot training & validation accuracy values\n",
    "plt.plot(history.history['acc'])\n",
    "plt.plot(history.history['val_acc'])\n",
    "plt.title('Model accuracy')\n",
    "plt.ylabel('Accuracy')\n",
    "plt.xlabel('Epoch')\n",
    "plt.legend(['Train', 'Test'], loc='upper left')\n",
    "plt.show()\n",
    "\n",
    "# Plot training & validation loss values\n",
    "plt.plot(history.history['loss'])\n",
    "plt.plot(history.history['val_loss'])\n",
    "plt.title('Model loss')\n",
    "plt.ylabel('Loss')\n",
    "plt.xlabel('Epoch')\n",
    "plt.legend(['Train', 'Test'], loc='upper left')\n",
    "plt.show()"
   ]
  },
  {
   "cell_type": "markdown",
   "metadata": {},
   "source": [
    "# Making predictions on test data"
   ]
  },
  {
   "cell_type": "code",
   "execution_count": 17,
   "metadata": {},
   "outputs": [
    {
     "data": {
      "image/png": "[encoded data removed]",
      "text/plain": [
       "<Figure size 720x720 with 8 Axes>"
      ]
     },
     "metadata": {},
     "output_type": "display_data"
    }
   ],
   "source": [
    "predicted=model.predict(test_images)\n",
    "plt.figure(figsize=(10,10))\n",
    "for i in range(8):\n",
    "    plt.subplot(1,8,i+1)\n",
    "    plt.xticks([])\n",
    "    plt.yticks([])\n",
    "    plt.grid(False)\n",
    "    plt.imshow(test_images[i].reshape(28, 28), cmap=plt.cm.binary)\n",
    "    plt.xlabel(np.argmax(predicted[i]))\n",
    "    #print(np.argmax(predicted[i]))"
   ]
  },
  {
   "cell_type": "markdown",
   "metadata": {},
   "source": [
    "# Misclassifications!"
   ]
  },
  {
   "cell_type": "code",
   "execution_count": 18,
   "metadata": {},
   "outputs": [
    {
     "data": {
      "image/png": "[encoded data removed]",
      "text/plain": [
       "<Figure size 432x288 with 1 Axes>"
      ]
     },
     "metadata": {},
     "output_type": "display_data"
    },
    {
     "name": "stdout",
     "output_type": "stream",
     "text": [
      "Predicted----> 6\n"
     ]
    },
    {
     "data": {
      "image/png": "[encoded data removed]",
      "text/plain": [
       "<Figure size 432x288 with 1 Axes>"
      ]
     },
     "metadata": {},
     "output_type": "display_data"
    },
    {
     "name": "stdout",
     "output_type": "stream",
     "text": [
      "Predicted----> 2\n"
     ]
    },
    {
     "data": {
      "image/png": "[encoded data removed]",
      "text/plain": [
       "<Figure size 432x288 with 1 Axes>"
      ]
     },
     "metadata": {},
     "output_type": "display_data"
    },
    {
     "name": "stdout",
     "output_type": "stream",
     "text": [
      "Predicted----> 2\n"
     ]
    },
    {
     "data": {
      "image/png": "[encoded data removed]",
      "text/plain": [
       "<Figure size 432x288 with 1 Axes>"
      ]
     },
     "metadata": {},
     "output_type": "display_data"
    },
    {
     "name": "stdout",
     "output_type": "stream",
     "text": [
      "Predicted----> 2\n"
     ]
    },
    {
     "data": {
      "image/png": "[encoded data removed]",
      "text/plain": [
       "<Figure size 432x288 with 1 Axes>"
      ]
     },
     "metadata": {},
     "output_type": "display_data"
    },
    {
     "name": "stdout",
     "output_type": "stream",
     "text": [
      "Predicted----> 4\n"
     ]
    },
    {
     "data": {
      "image/png": "[encoded data removed]",
      "text/plain": [
       "<Figure size 432x288 with 1 Axes>"
      ]
     },
     "metadata": {},
     "output_type": "display_data"
    },
    {
     "name": "stdout",
     "output_type": "stream",
     "text": [
      "Predicted----> 4\n"
     ]
    },
    {
     "data": {
      "image/png": "[encoded data removed]",
      "text/plain": [
       "<Figure size 432x288 with 1 Axes>"
      ]
     },
     "metadata": {},
     "output_type": "display_data"
    },
    {
     "name": "stdout",
     "output_type": "stream",
     "text": [
      "Predicted----> 8\n"
     ]
    },
    {
     "data": {
      "image/png": "[encoded data removed]",
      "text/plain": [
       "<Figure size 432x288 with 1 Axes>"
      ]
     },
     "metadata": {},
     "output_type": "display_data"
    },
    {
     "name": "stdout",
     "output_type": "stream",
     "text": [
      "Predicted----> 3\n"
     ]
    },
    {
     "data": {
      "image/png": "[encoded data removed]",
      "text/plain": [
       "<Figure size 432x288 with 1 Axes>"
      ]
     },
     "metadata": {},
     "output_type": "display_data"
    },
    {
     "name": "stdout",
     "output_type": "stream",
     "text": [
      "Predicted----> 7\n"
     ]
    },
    {
     "data": {
      "image/png": "[encoded data removed]",
      "text/plain": [
       "<Figure size 432x288 with 1 Axes>"
      ]
     },
     "metadata": {},
     "output_type": "display_data"
    },
    {
     "name": "stdout",
     "output_type": "stream",
     "text": [
      "Predicted----> 5\n"
     ]
    },
    {
     "data": {
      "image/png": "[encoded data removed]",
      "text/plain": [
       "<Figure size 432x288 with 1 Axes>"
      ]
     },
     "metadata": {},
     "output_type": "display_data"
    },
    {
     "name": "stdout",
     "output_type": "stream",
     "text": [
      "Predicted----> 7\n"
     ]
    },
    {
     "data": {
      "image/png": "[encoded data removed]",
      "text/plain": [
       "<Figure size 432x288 with 1 Axes>"
      ]
     },
     "metadata": {},
     "output_type": "display_data"
    },
    {
     "name": "stdout",
     "output_type": "stream",
     "text": [
      "Predicted----> 8\n"
     ]
    },
    {
     "data": {
      "image/png": "[encoded data removed]",
      "text/plain": [
       "<Figure size 432x288 with 1 Axes>"
      ]
     },
     "metadata": {},
     "output_type": "display_data"
    },
    {
     "name": "stdout",
     "output_type": "stream",
     "text": [
      "Predicted----> 5\n"
     ]
    },
    {
     "data": {
      "image/png": "[encoded data removed]",
      "text/plain": [
       "<Figure size 432x288 with 1 Axes>"
      ]
     },
     "metadata": {},
     "output_type": "display_data"
    },
    {
     "name": "stdout",
     "output_type": "stream",
     "text": [
      "Predicted----> 2\n"
     ]
    },
    {
     "data": {
      "image/png": "[encoded data removed]",
      "text/plain": [
       "<Figure size 432x288 with 1 Axes>"
      ]
     },
     "metadata": {},
     "output_type": "display_data"
    },
    {
     "name": "stdout",
     "output_type": "stream",
     "text": [
      "Predicted----> 0\n"
     ]
    },
    {
     "data": {
      "image/png": "[encoded data removed]",
      "text/plain": [
       "<Figure size 432x288 with 1 Axes>"
      ]
     },
     "metadata": {},
     "output_type": "display_data"
    },
    {
     "name": "stdout",
     "output_type": "stream",
     "text": [
      "Predicted----> 7\n"
     ]
    },
    {
     "data": {
      "image/png": "[encoded data removed]",
      "text/plain": [
       "<Figure size 432x288 with 1 Axes>"
      ]
     },
     "metadata": {},
     "output_type": "display_data"
    },
    {
     "name": "stdout",
     "output_type": "stream",
     "text": [
      "Predicted----> 7\n"
     ]
    },
    {
     "data": {
      "image/png": "[encoded data removed]",
      "text/plain": [
       "<Figure size 432x288 with 1 Axes>"
      ]
     },
     "metadata": {},
     "output_type": "display_data"
    },
    {
     "name": "stdout",
     "output_type": "stream",
     "text": [
      "Predicted----> 1\n"
     ]
    },
    {
     "data": {
      "image/png": "[encoded data removed]",
      "text/plain": [
       "<Figure size 432x288 with 1 Axes>"
      ]
     },
     "metadata": {},
     "output_type": "display_data"
    },
    {
     "name": "stdout",
     "output_type": "stream",
     "text": [
      "Predicted----> 7\n"
     ]
    },
    {
     "data": {
      "image/png": "[encoded data removed]",
      "text/plain": [
       "<Figure size 432x288 with 1 Axes>"
      ]
     },
     "metadata": {},
     "output_type": "display_data"
    },
    {
     "name": "stdout",
     "output_type": "stream",
     "text": [
      "Predicted----> 2\n"
     ]
    }
   ],
   "source": [
    "for i in range(400):\n",
    "    if np.argmax(predicted[i]) != np.argmax(test_labels[i]):\n",
    "        plt.xticks([])\n",
    "        plt.yticks([])\n",
    "        plt.grid(True)\n",
    "        plt.imshow(test_images[i].reshape(28, 28), cmap=plt.cm.binary)\n",
    "        plt.xlabel(np.argmax(predicted[i]))\n",
    "        plt.ylabel(\"True label--->  \"+ str(np.argmax(test_labels[i])))\n",
    "        plt.show()\n",
    "        print(\"Predicted---->\",str(np.argmax(predicted[i])))\n",
    "        "
   ]
  },
  {
   "cell_type": "markdown",
   "metadata": {
    "colab_type": "text",
    "id": ""
   },
   "source": [
    "As the model trains, the loss and accuracy metrics are displayed. This model reaches an accuracy of about 98.68% on the training data."
   ]
  },
  {
   "cell_type": "markdown",
   "metadata": {
    "colab_type": "text",
    "id": ""
   },
   "source": [
    "### Evaluate accuracy\n",
    "\n",
    "Next, compare how the model performs on the test dataset:"
   ]
  },
  {
   "cell_type": "code",
   "execution_count": 19,
   "metadata": {
    "colab": {},
    "colab_type": "code",
    "id": ""
   },
   "outputs": [
    {
     "name": "stdout",
     "output_type": "stream",
     "text": [
      "(10000, 784)\n",
      "10000/10000 [==============================] - 0s 10us/step\n",
      "Test accuracy: 0.9362\n"
     ]
    }
   ],
   "source": [
    "print(test_images.shape)\n",
    "test_loss, test_acc = model.evaluate(test_images, test_labels)\n",
    "\n",
    "print('Test accuracy:', test_acc)"
   ]
  },
  {
   "cell_type": "markdown",
   "metadata": {
    "colab_type": "text",
    "id": ""
   },
   "source": [
    "Often times, the accuracy on the test dataset is a little less than the accuracy on the training dataset. This gap between training accuracy and test accuracy is an example of *overfitting*. In our case, the accuracy is better at 99.19%! This is, in part, due to successful regularization accomplished with the Dropout layers."
   ]
  }
 ],
 "metadata": {
  "colab": {
   "collapsed_sections": [],
   "name": "tutorial_deep_learning_basics.ipynb",
   "provenance": [],
   "toc_visible": true,
   "version": "0.3.2"
  },
  "kernelspec": {
   "display_name": "Python 3",
   "language": "python",
   "name": "python3"
  },
  "language_info": {
   "codemirror_mode": {
    "name": "ipython",
    "version": 3
   },
   "file_extension": ".py",
   "mimetype": "text/x-python",
   "name": "python",
   "nbconvert_exporter": "python",
   "pygments_lexer": "ipython3",
   "version": "3.5.2"
  }
 },
 "nbformat": 4,
 "nbformat_minor": 1
}
